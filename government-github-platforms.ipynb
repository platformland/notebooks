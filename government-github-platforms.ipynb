{
 "cells": [
  {
   "cell_type": "code",
   "execution_count": 3,
   "metadata": {},
   "outputs": [],
   "source": [
    "import requests\n",
    "import yaml\n",
    "import time\n",
    "from IPython.core.display import display, HTML",
    "print("hello")"
   ]
  },
  {
   "cell_type": "markdown",
   "metadata": {},
   "source": [
    "# 1. Get a list of government github accounts\n",
    "\n",
    "GitHub maintains a list of government agencies that use github at [government.github.com](https://government.github.com)"
   ]
  },
  {
   "cell_type": "code",
   "execution_count": 6,
   "metadata": {},
   "outputs": [],
   "source": [
    "url = \"https://raw.githubusercontent.com/github/government.github.com/gh-pages/_data/governments.yml\"\n",
    "data = requests.get(url)\n",
    "data = yaml.load(data.text)\n",
    "repos = []\n",
    "for k,v in data.items():\n",
    "    for repo in v:\n",
    "        repos.append(repo)"
   ]
  },
  {
   "cell_type": "markdown",
   "metadata": {},
   "source": [
    "# 2. Search accounts for the word 'platform'\n",
    "\n",
    "This is obviously quite crude, but hopefully shows something about what teams actually working in government reguard as a platform"
   ]
  },
  {
   "cell_type": "code",
   "execution_count": null,
   "metadata": {},
   "outputs": [],
   "source": [
    "#repos = repos[0:10]\n",
    "html = '<table>'\n",
    "for repo in repos:\n",
    "    url = \"https://api.github.com/search/repositories?q=platform+org:%s\" % repo\n",
    "    data = requests.get(url)\n",
    "    try:\n",
    "        for item in data.json().get('items', []):\n",
    "            org_name = item['owner']['login']\n",
    "            result_url = item['html_url']\n",
    "            repo_name = item['name']\n",
    "            repo_description = item['description']\n",
    "            html += '<tr><td>%s</td><td><a href=\"%s\">%s</a></td><td>%s</td></tr>' % (org_name, result_url, repo_name, repo_description)\n",
    "    except:\n",
    "        pass\n",
    "    time.sleep(0.5)\n",
    "    \n",
    "html +='</table>'\n",
    "display(HTML(html))"
   ]
  }
 ],
 "metadata": {
  "kernelspec": {
   "display_name": "Python 3",
   "language": "python",
   "name": "python3"
  },
  "language_info": {
   "codemirror_mode": {
    "name": "ipython",
    "version": 3
   },
   "file_extension": ".py",
   "mimetype": "text/x-python",
   "name": "python",
   "nbconvert_exporter": "python",
   "pygments_lexer": "ipython3",
   "version": "3.5.2"
  }
 },
 "nbformat": 4,
 "nbformat_minor": 2
}
