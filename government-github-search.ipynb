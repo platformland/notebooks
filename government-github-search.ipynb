{
 "cells": [
  {
   "cell_type": "code",
   "execution_count": 33,
   "metadata": {},
   "outputs": [],
   "source": [
    "import requests\n",
    "import yaml\n",
    "import time\n",
    "from IPython.core.display import display, HTML\n",
    "TOKEN = ''"
   ]
  },
  {
   "cell_type": "markdown",
   "metadata": {},
   "source": [
    "# 1. Get a list of government github accounts\n",
    "\n",
    "GitHub maintains a list of government agencies that use github at [government.github.com](https://government.github.com)"
   ]
  },
  {
   "cell_type": "code",
   "execution_count": 34,
   "metadata": {},
   "outputs": [],
   "source": [
    "\n",
    "url = \"https://raw.githubusercontent.com/github/government.github.com/gh-pages/_data/governments.yml\"\n",
    "data = requests.get(url, headers={'Authorization': 'token %s' % TOKEN})\n",
    "data = yaml.load(data.text)\n",
    "repos = []\n",
    "for k, v in data.items():\n",
    "    for repo in v:\n",
    "        repos.append(repo)"
   ]
  },
  {
   "cell_type": "markdown",
   "metadata": {},
   "source": [
    "# 2. Search accounts for the word 'platform'\n",
    "\n",
    "This is obviously quite crude, but hopefully shows something about what teams actually working in government reguard as a platform"
   ]
  },
  {
   "cell_type": "code",
   "execution_count": 44,
   "metadata": {},
   "outputs": [],
   "source": [
    "def search(q):\n",
    "    time.sleep(2)\n",
    "    html = ''\n",
    "    url = \"https://api.github.com/search/repositories?q=platform+org:%s\" % q\n",
    "    data = requests.get(url, headers={'Authorization': 'token %s' % TOKEN})\n",
    "    if data.status_code == 200:\n",
    "        for item in data.json().get('items', []):\n",
    "            org_name = item['owner']['login']\n",
    "            result_url = item['html_url']\n",
    "            repo_name = item['name']\n",
    "            repo_description = item['description']\n",
    "            html += '<tr><td>%s</td><td><a href=\"%s\">%s</a></td><td>%s</td></tr>' % (org_name, result_url, repo_name, repo_description)\n",
    "    return html\n"
   ]
  },
  {
   "cell_type": "code",
   "execution_count": 45,
   "metadata": {},
   "outputs": [
    {
     "name": "stdout",
     "output_type": "stream",
     "text": [
      "200 https://api.github.com/search/repositories?q=platform+org:BarnsleyCouncil\n",
      "200 https://api.github.com/search/repositories?q=platform+org:BathnesDevelopment\n",
      "200 https://api.github.com/search/repositories?q=platform+org:BracknellForestCouncil\n",
      "200 https://api.github.com/search/repositories?q=platform+org:brighton-hove-gov-uk\n",
      "200 https://api.github.com/search/repositories?q=platform+org:BristolCityCouncil\n",
      "200 https://api.github.com/search/repositories?q=platform+org:CamdenCouncil\n",
      "200 https://api.github.com/search/repositories?q=platform+org:cityofyork\n",
      "200 https://api.github.com/search/repositories?q=platform+org:devoncc\n",
      "422 https://api.github.com/search/repositories?q=platform+org:DevonCountyCouncil\n",
      "200 https://api.github.com/search/repositories?q=platform+org:DundeeCityCouncil\n",
      "200 https://api.github.com/search/repositories?q=platform+org:east-sussex-county-council\n",
      "200 https://api.github.com/search/repositories?q=platform+org:edinburghcouncil\n",
      "200 https://api.github.com/search/repositories?q=platform+org:gmfrs\n",
      "200 https://api.github.com/search/repositories?q=platform+org:GuildfordBC\n",
      "200 https://api.github.com/search/repositories?q=platform+org:HfdsCouncil\n",
      "403 https://api.github.com/search/repositories?q=platform+org:kentcc\n",
      "403 https://api.github.com/search/repositories?q=platform+org:LambethCouncil\n",
      "403 https://api.github.com/search/repositories?q=platform+org:lichfield-district-council\n",
      "403 https://api.github.com/search/repositories?q=platform+org:LondonBoroughSutton\n",
      "403 https://api.github.com/search/repositories?q=platform+org:LutonCouncil\n",
      "200 https://api.github.com/search/repositories?q=platform+org:RotherDC\n",
      "200 https://api.github.com/search/repositories?q=platform+org:RoyalBoroughKingston\n",
      "200 https://api.github.com/search/repositories?q=platform+org:surreydigitalservices\n",
      "200 https://api.github.com/search/repositories?q=platform+org:thehighlandcouncil\n",
      "200 https://api.github.com/search/repositories?q=platform+org:TraffordCouncil\n",
      "200 https://api.github.com/search/repositories?q=platform+org:warwickshire\n",
      "422 https://api.github.com/search/repositories?q=platform+org:wealden\n",
      "200 https://api.github.com/search/repositories?q=platform+org:west-berkshire-council\n",
      "200 https://api.github.com/search/repositories?q=platform+org:molit-korea\n",
      "200 https://api.github.com/search/repositories?q=platform+org:atlregional\n",
      "200 https://api.github.com/search/repositories?q=platform+org:AZMAG\n",
      "200 https://api.github.com/search/repositories?q=platform+org:baaqmd\n",
      "200 https://api.github.com/search/repositories?q=platform+org:cleveland-metroparks\n",
      "200 https://api.github.com/search/repositories?q=platform+org:CMAP-REPOS\n",
      "200 https://api.github.com/search/repositories?q=platform+org:commonwealth-of-puerto-rico\n",
      "200 https://api.github.com/search/repositories?q=platform+org:MetropolitanCouncil\n",
      "200 https://api.github.com/search/repositories?q=platform+org:portofsandiego\n",
      "200 https://api.github.com/search/repositories?q=platform+org:psrc\n",
      "422 https://api.github.com/search/repositories?q=platform+org:e-gob\n",
      "200 https://api.github.com/search/repositories?q=platform+org:coi-gov-pl\n",
      "200 https://api.github.com/search/repositories?q=platform+org:Ministerstwo-Cyfryzacji\n",
      "200 https://api.github.com/search/repositories?q=platform+org:nationalmuseum\n",
      "422 https://api.github.com/search/repositories?q=platform+org:Digital-Israel\n",
      "200 https://api.github.com/search/repositories?q=platform+org:sipf\n",
      "200 https://api.github.com/search/repositories?q=platform+org:UNGlobalPlatform\n",
      "200 https://api.github.com/search/repositories?q=platform+org:minfingt\n",
      "200 https://api.github.com/search/repositories?q=platform+org:viesujupirkimutarnyba\n",
      "200 https://api.github.com/search/repositories?q=platform+org:vilnius\n",
      "200 https://api.github.com/search/repositories?q=platform+org:city-of-kobe\n",
      "200 https://api.github.com/search/repositories?q=platform+org:codefornamie\n",
      "200 https://api.github.com/search/repositories?q=platform+org:gsi-cyberjapan\n",
      "200 https://api.github.com/search/repositories?q=platform+org:nhohq\n",
      "200 https://api.github.com/search/repositories?q=platform+org:nims-dpfc\n",
      "200 https://api.github.com/search/repositories?q=platform+org:wakayama-pref-org\n",
      "200 https://api.github.com/search/repositories?q=platform+org:altinn\n",
      "200 https://api.github.com/search/repositories?q=platform+org:bergenkommune\n",
      "200 https://api.github.com/search/repositories?q=platform+org:brreg\n",
      "200 https://api.github.com/search/repositories?q=platform+org:difi\n",
      "200 https://api.github.com/search/repositories?q=platform+org:digibib\n",
      "200 https://api.github.com/search/repositories?q=platform+org:dsb-norge\n",
      "200 https://api.github.com/search/repositories?q=platform+org:dss-web\n",
      "200 https://api.github.com/search/repositories?q=platform+org:fylkesmannen\n",
      "200 https://api.github.com/search/repositories?q=platform+org:kartverket\n",
      "200 https://api.github.com/search/repositories?q=platform+org:knreise\n",
      "200 https://api.github.com/search/repositories?q=platform+org:KRD-KOMM-VL\n",
      "200 https://api.github.com/search/repositories?q=platform+org:metno\n",
      "200 https://api.github.com/search/repositories?q=platform+org:nasjonalmuseet\n",
      "200 https://api.github.com/search/repositories?q=platform+org:navikt\n",
      "200 https://api.github.com/search/repositories?q=platform+org:nlbdev\n",
      "200 https://api.github.com/search/repositories?q=platform+org:Rogaland\n",
      "422 https://api.github.com/search/repositories?q=platform+org:rutebanken\n",
      "200 https://api.github.com/search/repositories?q=platform+org:ruterno\n",
      "200 https://api.github.com/search/repositories?q=platform+org:Skatteetaten\n",
      "200 https://api.github.com/search/repositories?q=platform+org:StatensPensjonskasse\n",
      "200 https://api.github.com/search/repositories?q=platform+org:telemark\n",
      "200 https://api.github.com/search/repositories?q=platform+org:telemark-arkiv\n",
      "200 https://api.github.com/search/repositories?q=platform+org:uninett\n",
      "200 https://api.github.com/search/repositories?q=platform+org:vegvesen\n",
      "200 https://api.github.com/search/repositories?q=platform+org:vest-agder\n",
      "200 https://api.github.com/search/repositories?q=platform+org:AltaConsejeriaTIC\n",
      "200 https://api.github.com/search/repositories?q=platform+org:evaluon\n",
      "200 https://api.github.com/search/repositories?q=platform+org:idu-bogota\n",
      "200 https://api.github.com/search/repositories?q=platform+org:SanDiegoCountySheriff\n",
      "200 https://api.github.com/search/repositories?q=platform+org:imarpe\n",
      "200 https://api.github.com/search/repositories?q=platform+org:AgID\n",
      "200 https://api.github.com/search/repositories?q=platform+org:ComuneBologna\n",
      "200 https://api.github.com/search/repositories?q=platform+org:Formez\n",
      "200 https://api.github.com/search/repositories?q=platform+org:PloneGov-IT\n",
      "200 https://api.github.com/search/repositories?q=platform+org:RegioneER\n",
      "200 https://api.github.com/search/repositories?q=platform+org:TeamDigitale\n",
      "200 https://api.github.com/search/repositories?q=platform+org:e-gov\n"
     ]
    },
    {
     "ename": "KeyboardInterrupt",
     "evalue": "",
     "output_type": "error",
     "traceback": [
      "\u001b[0;31m---------------------------------------------------------------------------\u001b[0m",
      "\u001b[0;31mKeyboardInterrupt\u001b[0m                         Traceback (most recent call last)",
      "\u001b[0;32m<ipython-input-45-3737ccedb244>\u001b[0m in \u001b[0;36m<module>\u001b[0;34m()\u001b[0m\n\u001b[1;32m      4\u001b[0m \u001b[0moutput\u001b[0m \u001b[0;34m=\u001b[0m \u001b[0;34m'<table>'\u001b[0m\u001b[0;34m\u001b[0m\u001b[0m\n\u001b[1;32m      5\u001b[0m \u001b[0;32mfor\u001b[0m \u001b[0mrepo\u001b[0m \u001b[0;32min\u001b[0m \u001b[0m_repos\u001b[0m\u001b[0;34m:\u001b[0m\u001b[0;34m\u001b[0m\u001b[0m\n\u001b[0;32m----> 6\u001b[0;31m     \u001b[0moutput\u001b[0m \u001b[0;34m=\u001b[0m \u001b[0;34m\"%s%s\"\u001b[0m \u001b[0;34m%\u001b[0m \u001b[0;34m(\u001b[0m\u001b[0moutput\u001b[0m\u001b[0;34m,\u001b[0m \u001b[0msearch\u001b[0m\u001b[0;34m(\u001b[0m\u001b[0mrepo\u001b[0m\u001b[0;34m)\u001b[0m\u001b[0;34m)\u001b[0m\u001b[0;34m\u001b[0m\u001b[0m\n\u001b[0m\u001b[1;32m      7\u001b[0m \u001b[0;34m\u001b[0m\u001b[0m\n\u001b[1;32m      8\u001b[0m \u001b[0moutput\u001b[0m \u001b[0;34m=\u001b[0m \u001b[0;34m\"%s%s\"\u001b[0m \u001b[0;34m%\u001b[0m \u001b[0;34m(\u001b[0m\u001b[0moutput\u001b[0m\u001b[0;34m,\u001b[0m \u001b[0;34m\"</table>\"\u001b[0m\u001b[0;34m)\u001b[0m\u001b[0;34m\u001b[0m\u001b[0m\n",
      "\u001b[0;32m<ipython-input-44-2f02e57a22c1>\u001b[0m in \u001b[0;36msearch\u001b[0;34m(q)\u001b[0m\n\u001b[1;32m      1\u001b[0m \u001b[0;32mdef\u001b[0m \u001b[0msearch\u001b[0m\u001b[0;34m(\u001b[0m\u001b[0mq\u001b[0m\u001b[0;34m)\u001b[0m\u001b[0;34m:\u001b[0m\u001b[0;34m\u001b[0m\u001b[0m\n\u001b[0;32m----> 2\u001b[0;31m     \u001b[0mtime\u001b[0m\u001b[0;34m.\u001b[0m\u001b[0msleep\u001b[0m\u001b[0;34m(\u001b[0m\u001b[0;36m2\u001b[0m\u001b[0;34m)\u001b[0m\u001b[0;34m\u001b[0m\u001b[0m\n\u001b[0m\u001b[1;32m      3\u001b[0m     \u001b[0mhtml\u001b[0m \u001b[0;34m=\u001b[0m \u001b[0;34m''\u001b[0m\u001b[0;34m\u001b[0m\u001b[0m\n\u001b[1;32m      4\u001b[0m     \u001b[0murl\u001b[0m \u001b[0;34m=\u001b[0m \u001b[0;34m\"https://api.github.com/search/repositories?q=platform+org:%s\"\u001b[0m \u001b[0;34m%\u001b[0m \u001b[0mq\u001b[0m\u001b[0;34m\u001b[0m\u001b[0m\n\u001b[1;32m      5\u001b[0m     \u001b[0mdata\u001b[0m \u001b[0;34m=\u001b[0m \u001b[0mrequests\u001b[0m\u001b[0;34m.\u001b[0m\u001b[0mget\u001b[0m\u001b[0;34m(\u001b[0m\u001b[0murl\u001b[0m\u001b[0;34m,\u001b[0m \u001b[0mheaders\u001b[0m\u001b[0;34m=\u001b[0m\u001b[0;34m{\u001b[0m\u001b[0;34m'Authorization'\u001b[0m\u001b[0;34m:\u001b[0m \u001b[0;34m'token %s'\u001b[0m \u001b[0;34m%\u001b[0m \u001b[0mTOKEN\u001b[0m\u001b[0;34m}\u001b[0m\u001b[0;34m)\u001b[0m\u001b[0;34m\u001b[0m\u001b[0m\n",
      "\u001b[0;31mKeyboardInterrupt\u001b[0m: "
     ]
    }
   ],
   "source": [
    "#_repos = repos[0:25]\n",
    "_repos = repos\n",
    "\n",
    "output = '<table>'\n",
    "for repo in _repos:\n",
    "    output = \"%s%s\" % (output, search(repo))\n",
    "    \n",
    "output = \"%s%s\" % (output, \"</table>\")\n",
    "display(HTML(output))"
   ]
  }
 ],
 "metadata": {
  "kernelspec": {
   "display_name": "Python 3",
   "language": "python",
   "name": "python3"
  },
  "language_info": {
   "codemirror_mode": {
    "name": "ipython",
    "version": 3
   },
   "file_extension": ".py",
   "mimetype": "text/x-python",
   "name": "python",
   "nbconvert_exporter": "python",
   "pygments_lexer": "ipython3",
   "version": "3.5.2"
  }
 },
 "nbformat": 4,
 "nbformat_minor": 2
}
