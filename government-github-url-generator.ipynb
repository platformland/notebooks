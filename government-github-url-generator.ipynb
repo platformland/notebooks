{
 "cells": [
  {
   "cell_type": "markdown",
   "metadata": {},
   "source": [
    "# Generate github search URLs for groups of government agencies\n",
    "\n",
    "It's hard to find projects from across the whole of a government, rather than just a single agency. This code generates a single search URL for all agencues."
   ]
  },
  {
   "cell_type": "code",
   "execution_count": 32,
   "metadata": {},
   "outputs": [],
   "source": [
    "import requests\n",
    "import yaml\n",
    "from IPython.core.display import display, HTML"
   ]
  },
  {
   "cell_type": "markdown",
   "metadata": {},
   "source": [
    "## 1. Get a list of government github accounts\n",
    "\n",
    "GitHub maintains a list of government agencies that use github at [government.github.com](https://government.github.com)"
   ]
  },
  {
   "cell_type": "code",
   "execution_count": 28,
   "metadata": {},
   "outputs": [],
   "source": [
    "\n",
    "url = \"https://raw.githubusercontent.com/github/government.github.com/gh-pages/_data/governments.yml\"\n",
    "data = requests.get(url)\n",
    "all_repos = yaml.load(data.text)"
   ]
  },
  {
   "cell_type": "markdown",
   "metadata": {},
   "source": [
    "## 2. build it into a single search url for a particular group"
   ]
  },
  {
   "cell_type": "code",
   "execution_count": 29,
   "metadata": {},
   "outputs": [],
   "source": [
    "def get_url(filter):\n",
    "    org_parameter_template = \"+org:%s\"\n",
    "    search_url_template = \"http://github.com/search?q=%s\"\n",
    "    org_query = \"\"\n",
    "    \n",
    "    for repo in all_repos[filter]:\n",
    "        org_query += org_parameter_template % repo\n",
    "    \n",
    "    return search_url_template % org_query"
   ]
  },
  {
   "cell_type": "code",
   "execution_count": 37,
   "metadata": {},
   "outputs": [
    {
     "data": {
      "text/html": [
       "<ul><li><a href=\"http://github.com/search?q=+org:alphagov+org:BEACmodel+org:britishlibrary+org:cabinetoffice+org:CJSCommonPlatform+org:communitiesuk+org:companieshouse+org:datagovuk+org:decc+org:defra+org:DFE-Digital+org:dfid+org:digital-preservation+org:directgov-innovate+org:dstl+org:dvla+org:dvsa+org:dwp+org:GCHQ+org:gds-dead+org:gds-operations+org:guidance-guarantee-programme+org:hmcts+org:hmrc+org:informatics-lab+org:insolvencyservice+org:intellectual-property-office+org:IQuOD+org:jncc+org:JNCC-UK+org:jules-lsm+org:LandRegistry+org:landregistry-ops+org:lgss+org:LocalGovDigital+org:MetOffice+org:MetOfficeSpaceApps+org:metomi+org:ministryofjustice+org:naouk+org:nationalarchives+org:NationalCrimeAgency+org:OfqualGovUK+org:ONSdigital+org:openglasgow+org:openregister+org:osgeouk+org:scottishgovernment+org:SkillsFundingAgency+org:ukforeignoffice+org:ukgovdatascience+org:UKGovernmentBEIS+org:UKHomeOffice+org:UKLocation+org:ukncsc+org:ukwa\">UK central government</a></li><li><a href=\"http://github.com/search?q=+org:BarnsleyCouncil+org:BathnesDevelopment+org:BracknellForestCouncil+org:brighton-hove-gov-uk+org:BristolCityCouncil+org:CamdenCouncil+org:cityofyork+org:devoncc+org:DevonCountyCouncil+org:DundeeCityCouncil+org:east-sussex-county-council+org:edinburghcouncil+org:gmfrs+org:GuildfordBC+org:HfdsCouncil+org:kentcc+org:LambethCouncil+org:lichfield-district-council+org:LondonBoroughSutton+org:LutonCouncil+org:RotherDC+org:RoyalBoroughKingston+org:surreydigitalservices+org:thehighlandcouncil+org:TraffordCouncil+org:warwickshire+org:wealden+org:west-berkshire-council\">UK local government</a></li><li><a href=\"http://github.com/search?q=+org:18f+org:adl-aicc+org:adlnet+org:afrl+org:arcticlcc+org:BBGInnovate+org:bfelob+org:blue-button+org:businessusa+org:CA-CST-Library+org:CA-CST-SII+org:ccmc+org:CDCgov+org:cfpb+org:cmsgov+org:commercedataservice+org:commercegov+org:defense-cyber-crime-center+org:demand-driven-open-data+org:department-of-veterans-affairs+org:deptofdefense+org:dhs-ncats+org:didsr+org:digital-analytics-program+org:doecode+org:EEOC+org:energyapps+org:erdc-cm+org:eregs+org:fcc+org:fda+org:fecgov+org:Federal-Aviation-Administration+org:federaltradecommission+org:fedspendingtransparency+org:GIST-ORNL+org:globegit+org:gopleader+org:government-services+org:GreatSmokyMountainsNationalPark+org:gsa+org:gsa-oes+org:hhs+org:HHS-AHRQ+org:HHSDigitalMediaAPIPlatform+org:HHSIDEAlab+org:historyatstate+org:IIP-Design+org:IMDProjects+org:imls+org:informaticslab+org:Innovation-Toolkit+org:internationaltradeadministration+org:ioos+org:IRSgov+org:keplergo+org:libraryofcongress+org:M-O-S-E-S+org:mcc-gov+org:missioncommand+org:nasa+org:nasa-develop+org:nasa-gibs+org:NASA-rdt+org:nasa-tournament-lab+org:nasaworldwind+org:NationalGuard+org:nationalparkservice+org:NCRN+org:NeoGeographyToolkit+org:nesii+org:ngds+org:nhanes+org:nidcd+org:NIEM+org:NMB-Dev+org:NMML+org:noaa-gfdl+org:NOAA-ORR-ERD+org:ntia+org:ombegov+org:Open-Sat+org:opengovplatform+org:ozoneplatform+org:peacecorps+org:petsc+org:presidential-innovation-fellows+org:project-open-data+org:radiofreeasia+org:redhawksdr+org:regulationsgov+org:sbstusa+org:SelectUSA+org:SERVIR+org:SSAgov+org:state-hiu+org:sunpy+org:us-bea+org:US-CBP+org:usagov+org:usaid+org:usajobs+org:usasearch+org:usbr+org:uscensusbureau+org:uscis+org:usda+org:usda-ars-agil+org:USDA-ERS+org:USDA-FSA+org:usda-vs+org:usdepartmentoflabor+org:USDeptVeteransAffairs+org:usdoj+org:usds+org:usdot-jpo-ode+org:useda+org:usepa+org:USFWS+org:usg-scope+org:USGCRP+org:usgpo+org:usgs+org:USGS-Astrogeology+org:USGS-CIDA+org:usgs-cmg+org:usgs-eros+org:USGS-OWI+org:USGS-R+org:USGS-WiM+org:usindianaffairs+org:usinterior+org:usnationalarchives+org:USPS+org:USPTO+org:USSBA+org:usstatedept+org:ustaxcourt+org:VHAINNOVATIONS+org:virtual-world-framework+org:visionworkbench+org:WFMRDA+org:whitehouse\">UK federal government</a></li><li><a href=\"http://github.com/search?q=+org:austincodeit+org:Baltimore-City-EGIS+org:berkeleypubliclibrary+org:BostonRedevelop+org:cambridgedata+org:cambridgegis+org:chicago+org:city-of-bellingham+org:city-of-bloomington+org:cityofasheville+org:CityOfAuburnAL+org:cityofaustin+org:cityofboise+org:CityOfBoston+org:cityofboulder+org:cityofburlington+org:cityofchattanooga+org:cityoffortworth+org:CityOfGreeleyCo+org:CityOfLosAngeles+org:cityofnewyork+org:CityOfPhiladelphia+org:CityofPittsburgh+org:cityofportland+org:CityofReno+org:CityofSanFrancisco+org:CityofSantaMonica+org:cityofsomerville+org:cityofvernonia+org:CityOfVirginiaBeach+org:cityofwestsacramento+org:CityofYakima+org:cno-opa+org:CORaleigh+org:CUMTD+org:DCCouncil+org:DCgov+org:DenverDev+org:digitalinclusion+org:egovpdx+org:Honolulu+org:kcmo+org:lfucg+org:longbeachinnovationteam+org:LouisvilleMetro+org:mnhrc+org:monum+org:NYCComptroller+org:nycdot+org:NYCPlanning+org:OpenGovDC+org:p2g+org:pdxgis+org:PierceCountyWA+org:ProBonoDC+org:ridertd+org:SantaClarita+org:sfbart+org:SiloamSprings+org:southbend+org:TownOfBrookline+org:tucsonaz\">UK city government</a></li></ul>"
      ],
      "text/plain": [
       "<IPython.core.display.HTML object>"
      ]
     },
     "metadata": {},
     "output_type": "display_data"
    }
   ],
   "source": [
    "html = \"<ul>\"\n",
    "html += \"<li><a href=\\\"%s\\\">UK central government</a></li>\" % get_url('U.K. Central')\n",
    "html += \"<li><a href=\\\"%s\\\">UK local government</a></li>\" % get_url('U.K. Councils')\n",
    "html += \"<li><a href=\\\"%s\\\">US federal government</a></li>\" % get_url('U.S. Federal')\n",
    "html += \"<li><a href=\\\"%s\\\">US city government</a></li>\" % get_url('U.S. City')\n",
    "html += \"</ul>\"\n",
    "\n",
    "\n",
    "display(HTML(html))"
   ]
  }
 ],
 "metadata": {
  "kernelspec": {
   "display_name": "Python 3",
   "language": "python",
   "name": "python3"
  },
  "language_info": {
   "codemirror_mode": {
    "name": "ipython",
    "version": 3
   },
   "file_extension": ".py",
   "mimetype": "text/x-python",
   "name": "python",
   "nbconvert_exporter": "python",
   "pygments_lexer": "ipython3",
   "version": "3.5.2"
  }
 },
 "nbformat": 4,
 "nbformat_minor": 2
}
